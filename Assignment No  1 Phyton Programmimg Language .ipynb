{
 "cells": [
  {
   "cell_type": "code",
   "execution_count": 3,
   "metadata": {},
   "outputs": [
    {
     "name": "stdout",
     "output_type": "stream",
     "text": [
      "Twinkle,Twinkle,little star,\n",
      " How i wonder what you are!\n",
      " up above the world so high,\n",
      " Like a diamond in the sky,\n",
      " Twinkle Twinkle little star,\n",
      " How I Wonder what you Are\n"
     ]
    }
   ],
   "source": [
    "print(\"Twinkle,Twinkle,little star,\\n How i wonder what you are!\\n up above the world so high,\\n Like a diamond in the sky,\\n Twinkle Twinkle little star,\\n How I Wonder what you Are\")"
   ]
  },
  {
   "cell_type": "code",
   "execution_count": 5,
   "metadata": {},
   "outputs": [
    {
     "name": "stdout",
     "output_type": "stream",
     "text": [
      "Current phyton version\n",
      "3.7.4 (default, Aug  9 2019, 18:34:13) [MSC v.1915 64 bit (AMD64)]\n"
     ]
    }
   ],
   "source": [
    "import sys \n",
    "print(\"Current phyton version\")\n",
    "print(sys.version)"
   ]
  },
  {
   "cell_type": "code",
   "execution_count": 10,
   "metadata": {},
   "outputs": [
    {
     "name": "stdout",
     "output_type": "stream",
     "text": [
      "Current date and time: \n",
      "2019-11-05 19:37:27\n"
     ]
    }
   ],
   "source": [
    "import datetime\n",
    "now=datetime.datetime.now()\n",
    "print(\"Current date and time: \")\n",
    "print (now.strftime(\"%Y-%m-%d %H:%M:%S\"))\n"
   ]
  },
  {
   "cell_type": "code",
   "execution_count": 11,
   "metadata": {},
   "outputs": [
    {
     "name": "stdout",
     "output_type": "stream",
     "text": [
      "Enter the radius of Circle3.2568\n",
      "the area of circle is  33.30518319360001\n"
     ]
    }
   ],
   "source": [
    "a = float(input(\"Enter the radius of Circle\"))\n",
    "pi = 3.14\n",
    "area = pi *(a**2)\n",
    "print(\"the area of circle is \", area)"
   ]
  },
  {
   "cell_type": "code",
   "execution_count": 14,
   "metadata": {},
   "outputs": [
    {
     "name": "stdout",
     "output_type": "stream",
     "text": [
      "enter your first nameJawad\n",
      "enter your las t nameJalil\n",
      "your name in reverse is Jalil Jawad\n"
     ]
    }
   ],
   "source": [
    "a = input(\"enter your first name\")\n",
    "b = input(\"enter your las t name\")\n",
    "c = b+\" \"+a\n",
    "print (\"your name in reverse is\",c)"
   ]
  },
  {
   "cell_type": "code",
   "execution_count": null,
   "metadata": {},
   "outputs": [],
   "source": []
  },
  {
   "cell_type": "code",
   "execution_count": null,
   "metadata": {},
   "outputs": [],
   "source": []
  }
 ],
 "metadata": {
  "kernelspec": {
   "display_name": "Python 3",
   "language": "python",
   "name": "python3"
  },
  "language_info": {
   "codemirror_mode": {
    "name": "ipython",
    "version": 3
   },
   "file_extension": ".py",
   "mimetype": "text/x-python",
   "name": "python",
   "nbconvert_exporter": "python",
   "pygments_lexer": "ipython3",
   "version": "3.7.4"
  }
 },
 "nbformat": 4,
 "nbformat_minor": 2
}
